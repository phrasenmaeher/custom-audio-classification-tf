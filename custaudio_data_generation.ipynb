{
  "nbformat": 4,
  "nbformat_minor": 0,
  "metadata": {
    "colab": {
      "name": "custaudio_data_generation.ipynb",
      "provenance": [],
      "collapsed_sections": [],
      "toc_visible": true,
      "include_colab_link": true
    },
    "kernelspec": {
      "name": "python3",
      "display_name": "Python 3"
    },
    "widgets": {
      "application/vnd.jupyter.widget-state+json": {
        "df848a20dc01473688f2be7f0a63d09f": {
          "model_module": "@jupyter-widgets/controls",
          "model_name": "HBoxModel",
          "state": {
            "_view_name": "HBoxView",
            "_dom_classes": [],
            "_model_name": "HBoxModel",
            "_view_module": "@jupyter-widgets/controls",
            "_model_module_version": "1.5.0",
            "_view_count": null,
            "_view_module_version": "1.5.0",
            "box_style": "",
            "layout": "IPY_MODEL_5911842c01ad4811828ae56d01ab5303",
            "_model_module": "@jupyter-widgets/controls",
            "children": [
              "IPY_MODEL_c8a2d838c8f9430799bcf5a7691398e6",
              "IPY_MODEL_f0a333e8dfef4ab0ae0c842523f6cc1d"
            ]
          }
        },
        "5911842c01ad4811828ae56d01ab5303": {
          "model_module": "@jupyter-widgets/base",
          "model_name": "LayoutModel",
          "state": {
            "_view_name": "LayoutView",
            "grid_template_rows": null,
            "right": null,
            "justify_content": null,
            "_view_module": "@jupyter-widgets/base",
            "overflow": null,
            "_model_module_version": "1.2.0",
            "_view_count": null,
            "flex_flow": null,
            "width": null,
            "min_width": null,
            "border": null,
            "align_items": null,
            "bottom": null,
            "_model_module": "@jupyter-widgets/base",
            "top": null,
            "grid_column": null,
            "overflow_y": null,
            "overflow_x": null,
            "grid_auto_flow": null,
            "grid_area": null,
            "grid_template_columns": null,
            "flex": null,
            "_model_name": "LayoutModel",
            "justify_items": null,
            "grid_row": null,
            "max_height": null,
            "align_content": null,
            "visibility": null,
            "align_self": null,
            "height": null,
            "min_height": null,
            "padding": null,
            "grid_auto_rows": null,
            "grid_gap": null,
            "max_width": null,
            "order": null,
            "_view_module_version": "1.2.0",
            "grid_template_areas": null,
            "object_position": null,
            "object_fit": null,
            "grid_auto_columns": null,
            "margin": null,
            "display": null,
            "left": null
          }
        },
        "c8a2d838c8f9430799bcf5a7691398e6": {
          "model_module": "@jupyter-widgets/controls",
          "model_name": "FloatProgressModel",
          "state": {
            "_view_name": "ProgressView",
            "style": "IPY_MODEL_00d1ac36456b40cea4b9c361f2ad186e",
            "_dom_classes": [],
            "description": "100%",
            "_model_name": "FloatProgressModel",
            "bar_style": "success",
            "max": 50,
            "_view_module": "@jupyter-widgets/controls",
            "_model_module_version": "1.5.0",
            "value": 50,
            "_view_count": null,
            "_view_module_version": "1.5.0",
            "orientation": "horizontal",
            "min": 0,
            "description_tooltip": null,
            "_model_module": "@jupyter-widgets/controls",
            "layout": "IPY_MODEL_4b2ce78dd7f448f2b940ffb5da41e79c"
          }
        },
        "f0a333e8dfef4ab0ae0c842523f6cc1d": {
          "model_module": "@jupyter-widgets/controls",
          "model_name": "HTMLModel",
          "state": {
            "_view_name": "HTMLView",
            "style": "IPY_MODEL_e2c8925add1044c8aff9f88a04a9e4dd",
            "_dom_classes": [],
            "description": "",
            "_model_name": "HTMLModel",
            "placeholder": "​",
            "_view_module": "@jupyter-widgets/controls",
            "_model_module_version": "1.5.0",
            "value": " 50/50 [03:54&lt;00:00,  4.68s/it]",
            "_view_count": null,
            "_view_module_version": "1.5.0",
            "description_tooltip": null,
            "_model_module": "@jupyter-widgets/controls",
            "layout": "IPY_MODEL_68bd280e1b0742799a3686da000943c7"
          }
        },
        "00d1ac36456b40cea4b9c361f2ad186e": {
          "model_module": "@jupyter-widgets/controls",
          "model_name": "ProgressStyleModel",
          "state": {
            "_view_name": "StyleView",
            "_model_name": "ProgressStyleModel",
            "description_width": "initial",
            "_view_module": "@jupyter-widgets/base",
            "_model_module_version": "1.5.0",
            "_view_count": null,
            "_view_module_version": "1.2.0",
            "bar_color": null,
            "_model_module": "@jupyter-widgets/controls"
          }
        },
        "4b2ce78dd7f448f2b940ffb5da41e79c": {
          "model_module": "@jupyter-widgets/base",
          "model_name": "LayoutModel",
          "state": {
            "_view_name": "LayoutView",
            "grid_template_rows": null,
            "right": null,
            "justify_content": null,
            "_view_module": "@jupyter-widgets/base",
            "overflow": null,
            "_model_module_version": "1.2.0",
            "_view_count": null,
            "flex_flow": null,
            "width": null,
            "min_width": null,
            "border": null,
            "align_items": null,
            "bottom": null,
            "_model_module": "@jupyter-widgets/base",
            "top": null,
            "grid_column": null,
            "overflow_y": null,
            "overflow_x": null,
            "grid_auto_flow": null,
            "grid_area": null,
            "grid_template_columns": null,
            "flex": null,
            "_model_name": "LayoutModel",
            "justify_items": null,
            "grid_row": null,
            "max_height": null,
            "align_content": null,
            "visibility": null,
            "align_self": null,
            "height": null,
            "min_height": null,
            "padding": null,
            "grid_auto_rows": null,
            "grid_gap": null,
            "max_width": null,
            "order": null,
            "_view_module_version": "1.2.0",
            "grid_template_areas": null,
            "object_position": null,
            "object_fit": null,
            "grid_auto_columns": null,
            "margin": null,
            "display": null,
            "left": null
          }
        },
        "e2c8925add1044c8aff9f88a04a9e4dd": {
          "model_module": "@jupyter-widgets/controls",
          "model_name": "DescriptionStyleModel",
          "state": {
            "_view_name": "StyleView",
            "_model_name": "DescriptionStyleModel",
            "description_width": "",
            "_view_module": "@jupyter-widgets/base",
            "_model_module_version": "1.5.0",
            "_view_count": null,
            "_view_module_version": "1.2.0",
            "_model_module": "@jupyter-widgets/controls"
          }
        },
        "68bd280e1b0742799a3686da000943c7": {
          "model_module": "@jupyter-widgets/base",
          "model_name": "LayoutModel",
          "state": {
            "_view_name": "LayoutView",
            "grid_template_rows": null,
            "right": null,
            "justify_content": null,
            "_view_module": "@jupyter-widgets/base",
            "overflow": null,
            "_model_module_version": "1.2.0",
            "_view_count": null,
            "flex_flow": null,
            "width": null,
            "min_width": null,
            "border": null,
            "align_items": null,
            "bottom": null,
            "_model_module": "@jupyter-widgets/base",
            "top": null,
            "grid_column": null,
            "overflow_y": null,
            "overflow_x": null,
            "grid_auto_flow": null,
            "grid_area": null,
            "grid_template_columns": null,
            "flex": null,
            "_model_name": "LayoutModel",
            "justify_items": null,
            "grid_row": null,
            "max_height": null,
            "align_content": null,
            "visibility": null,
            "align_self": null,
            "height": null,
            "min_height": null,
            "padding": null,
            "grid_auto_rows": null,
            "grid_gap": null,
            "max_width": null,
            "order": null,
            "_view_module_version": "1.2.0",
            "grid_template_areas": null,
            "object_position": null,
            "object_fit": null,
            "grid_auto_columns": null,
            "margin": null,
            "display": null,
            "left": null
          }
        },
        "2eb8afc22a1941b6b47bfd4f4aa60515": {
          "model_module": "@jupyter-widgets/controls",
          "model_name": "HBoxModel",
          "state": {
            "_view_name": "HBoxView",
            "_dom_classes": [],
            "_model_name": "HBoxModel",
            "_view_module": "@jupyter-widgets/controls",
            "_model_module_version": "1.5.0",
            "_view_count": null,
            "_view_module_version": "1.5.0",
            "box_style": "",
            "layout": "IPY_MODEL_045eaff4afd84d63b257eb7c1916e56e",
            "_model_module": "@jupyter-widgets/controls",
            "children": [
              "IPY_MODEL_ef0ad6eb914144c893ea00976f306393",
              "IPY_MODEL_b56cc9a26c484b4ca7561d4523c0aba2"
            ]
          }
        },
        "045eaff4afd84d63b257eb7c1916e56e": {
          "model_module": "@jupyter-widgets/base",
          "model_name": "LayoutModel",
          "state": {
            "_view_name": "LayoutView",
            "grid_template_rows": null,
            "right": null,
            "justify_content": null,
            "_view_module": "@jupyter-widgets/base",
            "overflow": null,
            "_model_module_version": "1.2.0",
            "_view_count": null,
            "flex_flow": null,
            "width": null,
            "min_width": null,
            "border": null,
            "align_items": null,
            "bottom": null,
            "_model_module": "@jupyter-widgets/base",
            "top": null,
            "grid_column": null,
            "overflow_y": null,
            "overflow_x": null,
            "grid_auto_flow": null,
            "grid_area": null,
            "grid_template_columns": null,
            "flex": null,
            "_model_name": "LayoutModel",
            "justify_items": null,
            "grid_row": null,
            "max_height": null,
            "align_content": null,
            "visibility": null,
            "align_self": null,
            "height": null,
            "min_height": null,
            "padding": null,
            "grid_auto_rows": null,
            "grid_gap": null,
            "max_width": null,
            "order": null,
            "_view_module_version": "1.2.0",
            "grid_template_areas": null,
            "object_position": null,
            "object_fit": null,
            "grid_auto_columns": null,
            "margin": null,
            "display": null,
            "left": null
          }
        },
        "ef0ad6eb914144c893ea00976f306393": {
          "model_module": "@jupyter-widgets/controls",
          "model_name": "FloatProgressModel",
          "state": {
            "_view_name": "ProgressView",
            "style": "IPY_MODEL_0de97a067a484524b168a091472a7bcd",
            "_dom_classes": [],
            "description": "100%",
            "_model_name": "FloatProgressModel",
            "bar_style": "success",
            "max": 50,
            "_view_module": "@jupyter-widgets/controls",
            "_model_module_version": "1.5.0",
            "value": 50,
            "_view_count": null,
            "_view_module_version": "1.5.0",
            "orientation": "horizontal",
            "min": 0,
            "description_tooltip": null,
            "_model_module": "@jupyter-widgets/controls",
            "layout": "IPY_MODEL_ad7798198bdf4c22b77261ec0f26aa89"
          }
        },
        "b56cc9a26c484b4ca7561d4523c0aba2": {
          "model_module": "@jupyter-widgets/controls",
          "model_name": "HTMLModel",
          "state": {
            "_view_name": "HTMLView",
            "style": "IPY_MODEL_eecd7315f5ca4fb8827f0b68370a8f11",
            "_dom_classes": [],
            "description": "",
            "_model_name": "HTMLModel",
            "placeholder": "​",
            "_view_module": "@jupyter-widgets/controls",
            "_model_module_version": "1.5.0",
            "value": " 50/50 [02:35&lt;00:00,  3.10s/it]",
            "_view_count": null,
            "_view_module_version": "1.5.0",
            "description_tooltip": null,
            "_model_module": "@jupyter-widgets/controls",
            "layout": "IPY_MODEL_590af0b591114d4b8142930cf0aa3813"
          }
        },
        "0de97a067a484524b168a091472a7bcd": {
          "model_module": "@jupyter-widgets/controls",
          "model_name": "ProgressStyleModel",
          "state": {
            "_view_name": "StyleView",
            "_model_name": "ProgressStyleModel",
            "description_width": "initial",
            "_view_module": "@jupyter-widgets/base",
            "_model_module_version": "1.5.0",
            "_view_count": null,
            "_view_module_version": "1.2.0",
            "bar_color": null,
            "_model_module": "@jupyter-widgets/controls"
          }
        },
        "ad7798198bdf4c22b77261ec0f26aa89": {
          "model_module": "@jupyter-widgets/base",
          "model_name": "LayoutModel",
          "state": {
            "_view_name": "LayoutView",
            "grid_template_rows": null,
            "right": null,
            "justify_content": null,
            "_view_module": "@jupyter-widgets/base",
            "overflow": null,
            "_model_module_version": "1.2.0",
            "_view_count": null,
            "flex_flow": null,
            "width": null,
            "min_width": null,
            "border": null,
            "align_items": null,
            "bottom": null,
            "_model_module": "@jupyter-widgets/base",
            "top": null,
            "grid_column": null,
            "overflow_y": null,
            "overflow_x": null,
            "grid_auto_flow": null,
            "grid_area": null,
            "grid_template_columns": null,
            "flex": null,
            "_model_name": "LayoutModel",
            "justify_items": null,
            "grid_row": null,
            "max_height": null,
            "align_content": null,
            "visibility": null,
            "align_self": null,
            "height": null,
            "min_height": null,
            "padding": null,
            "grid_auto_rows": null,
            "grid_gap": null,
            "max_width": null,
            "order": null,
            "_view_module_version": "1.2.0",
            "grid_template_areas": null,
            "object_position": null,
            "object_fit": null,
            "grid_auto_columns": null,
            "margin": null,
            "display": null,
            "left": null
          }
        },
        "eecd7315f5ca4fb8827f0b68370a8f11": {
          "model_module": "@jupyter-widgets/controls",
          "model_name": "DescriptionStyleModel",
          "state": {
            "_view_name": "StyleView",
            "_model_name": "DescriptionStyleModel",
            "description_width": "",
            "_view_module": "@jupyter-widgets/base",
            "_model_module_version": "1.5.0",
            "_view_count": null,
            "_view_module_version": "1.2.0",
            "_model_module": "@jupyter-widgets/controls"
          }
        },
        "590af0b591114d4b8142930cf0aa3813": {
          "model_module": "@jupyter-widgets/base",
          "model_name": "LayoutModel",
          "state": {
            "_view_name": "LayoutView",
            "grid_template_rows": null,
            "right": null,
            "justify_content": null,
            "_view_module": "@jupyter-widgets/base",
            "overflow": null,
            "_model_module_version": "1.2.0",
            "_view_count": null,
            "flex_flow": null,
            "width": null,
            "min_width": null,
            "border": null,
            "align_items": null,
            "bottom": null,
            "_model_module": "@jupyter-widgets/base",
            "top": null,
            "grid_column": null,
            "overflow_y": null,
            "overflow_x": null,
            "grid_auto_flow": null,
            "grid_area": null,
            "grid_template_columns": null,
            "flex": null,
            "_model_name": "LayoutModel",
            "justify_items": null,
            "grid_row": null,
            "max_height": null,
            "align_content": null,
            "visibility": null,
            "align_self": null,
            "height": null,
            "min_height": null,
            "padding": null,
            "grid_auto_rows": null,
            "grid_gap": null,
            "max_width": null,
            "order": null,
            "_view_module_version": "1.2.0",
            "grid_template_areas": null,
            "object_position": null,
            "object_fit": null,
            "grid_auto_columns": null,
            "margin": null,
            "display": null,
            "left": null
          }
        },
        "766b74a257524cf6a96d8e30a2728a67": {
          "model_module": "@jupyter-widgets/controls",
          "model_name": "HBoxModel",
          "state": {
            "_view_name": "HBoxView",
            "_dom_classes": [],
            "_model_name": "HBoxModel",
            "_view_module": "@jupyter-widgets/controls",
            "_model_module_version": "1.5.0",
            "_view_count": null,
            "_view_module_version": "1.5.0",
            "box_style": "",
            "layout": "IPY_MODEL_8b750c099fd54c28b852a48c7611fd30",
            "_model_module": "@jupyter-widgets/controls",
            "children": [
              "IPY_MODEL_769c768880bd42aca0e7d553d234733a",
              "IPY_MODEL_dd8d3cfa2d6b4481807edf8af244474c"
            ]
          }
        },
        "8b750c099fd54c28b852a48c7611fd30": {
          "model_module": "@jupyter-widgets/base",
          "model_name": "LayoutModel",
          "state": {
            "_view_name": "LayoutView",
            "grid_template_rows": null,
            "right": null,
            "justify_content": null,
            "_view_module": "@jupyter-widgets/base",
            "overflow": null,
            "_model_module_version": "1.2.0",
            "_view_count": null,
            "flex_flow": null,
            "width": null,
            "min_width": null,
            "border": null,
            "align_items": null,
            "bottom": null,
            "_model_module": "@jupyter-widgets/base",
            "top": null,
            "grid_column": null,
            "overflow_y": null,
            "overflow_x": null,
            "grid_auto_flow": null,
            "grid_area": null,
            "grid_template_columns": null,
            "flex": null,
            "_model_name": "LayoutModel",
            "justify_items": null,
            "grid_row": null,
            "max_height": null,
            "align_content": null,
            "visibility": null,
            "align_self": null,
            "height": null,
            "min_height": null,
            "padding": null,
            "grid_auto_rows": null,
            "grid_gap": null,
            "max_width": null,
            "order": null,
            "_view_module_version": "1.2.0",
            "grid_template_areas": null,
            "object_position": null,
            "object_fit": null,
            "grid_auto_columns": null,
            "margin": null,
            "display": null,
            "left": null
          }
        },
        "769c768880bd42aca0e7d553d234733a": {
          "model_module": "@jupyter-widgets/controls",
          "model_name": "FloatProgressModel",
          "state": {
            "_view_name": "ProgressView",
            "style": "IPY_MODEL_4f409f5a3da24e929896a149c5fc020a",
            "_dom_classes": [],
            "description": "100%",
            "_model_name": "FloatProgressModel",
            "bar_style": "success",
            "max": 50,
            "_view_module": "@jupyter-widgets/controls",
            "_model_module_version": "1.5.0",
            "value": 50,
            "_view_count": null,
            "_view_module_version": "1.5.0",
            "orientation": "horizontal",
            "min": 0,
            "description_tooltip": null,
            "_model_module": "@jupyter-widgets/controls",
            "layout": "IPY_MODEL_4e4833b9648941c9b848eb862b1a2f17"
          }
        },
        "dd8d3cfa2d6b4481807edf8af244474c": {
          "model_module": "@jupyter-widgets/controls",
          "model_name": "HTMLModel",
          "state": {
            "_view_name": "HTMLView",
            "style": "IPY_MODEL_f2ebd07fd553470593938694e797579e",
            "_dom_classes": [],
            "description": "",
            "_model_name": "HTMLModel",
            "placeholder": "​",
            "_view_module": "@jupyter-widgets/controls",
            "_model_module_version": "1.5.0",
            "value": " 50/50 [02:25&lt;00:00,  2.91s/it]",
            "_view_count": null,
            "_view_module_version": "1.5.0",
            "description_tooltip": null,
            "_model_module": "@jupyter-widgets/controls",
            "layout": "IPY_MODEL_c0f9cd1510b74bae85ae26549e95139f"
          }
        },
        "4f409f5a3da24e929896a149c5fc020a": {
          "model_module": "@jupyter-widgets/controls",
          "model_name": "ProgressStyleModel",
          "state": {
            "_view_name": "StyleView",
            "_model_name": "ProgressStyleModel",
            "description_width": "initial",
            "_view_module": "@jupyter-widgets/base",
            "_model_module_version": "1.5.0",
            "_view_count": null,
            "_view_module_version": "1.2.0",
            "bar_color": null,
            "_model_module": "@jupyter-widgets/controls"
          }
        },
        "4e4833b9648941c9b848eb862b1a2f17": {
          "model_module": "@jupyter-widgets/base",
          "model_name": "LayoutModel",
          "state": {
            "_view_name": "LayoutView",
            "grid_template_rows": null,
            "right": null,
            "justify_content": null,
            "_view_module": "@jupyter-widgets/base",
            "overflow": null,
            "_model_module_version": "1.2.0",
            "_view_count": null,
            "flex_flow": null,
            "width": null,
            "min_width": null,
            "border": null,
            "align_items": null,
            "bottom": null,
            "_model_module": "@jupyter-widgets/base",
            "top": null,
            "grid_column": null,
            "overflow_y": null,
            "overflow_x": null,
            "grid_auto_flow": null,
            "grid_area": null,
            "grid_template_columns": null,
            "flex": null,
            "_model_name": "LayoutModel",
            "justify_items": null,
            "grid_row": null,
            "max_height": null,
            "align_content": null,
            "visibility": null,
            "align_self": null,
            "height": null,
            "min_height": null,
            "padding": null,
            "grid_auto_rows": null,
            "grid_gap": null,
            "max_width": null,
            "order": null,
            "_view_module_version": "1.2.0",
            "grid_template_areas": null,
            "object_position": null,
            "object_fit": null,
            "grid_auto_columns": null,
            "margin": null,
            "display": null,
            "left": null
          }
        },
        "f2ebd07fd553470593938694e797579e": {
          "model_module": "@jupyter-widgets/controls",
          "model_name": "DescriptionStyleModel",
          "state": {
            "_view_name": "StyleView",
            "_model_name": "DescriptionStyleModel",
            "description_width": "",
            "_view_module": "@jupyter-widgets/base",
            "_model_module_version": "1.5.0",
            "_view_count": null,
            "_view_module_version": "1.2.0",
            "_model_module": "@jupyter-widgets/controls"
          }
        },
        "c0f9cd1510b74bae85ae26549e95139f": {
          "model_module": "@jupyter-widgets/base",
          "model_name": "LayoutModel",
          "state": {
            "_view_name": "LayoutView",
            "grid_template_rows": null,
            "right": null,
            "justify_content": null,
            "_view_module": "@jupyter-widgets/base",
            "overflow": null,
            "_model_module_version": "1.2.0",
            "_view_count": null,
            "flex_flow": null,
            "width": null,
            "min_width": null,
            "border": null,
            "align_items": null,
            "bottom": null,
            "_model_module": "@jupyter-widgets/base",
            "top": null,
            "grid_column": null,
            "overflow_y": null,
            "overflow_x": null,
            "grid_auto_flow": null,
            "grid_area": null,
            "grid_template_columns": null,
            "flex": null,
            "_model_name": "LayoutModel",
            "justify_items": null,
            "grid_row": null,
            "max_height": null,
            "align_content": null,
            "visibility": null,
            "align_self": null,
            "height": null,
            "min_height": null,
            "padding": null,
            "grid_auto_rows": null,
            "grid_gap": null,
            "max_width": null,
            "order": null,
            "_view_module_version": "1.2.0",
            "grid_template_areas": null,
            "object_position": null,
            "object_fit": null,
            "grid_auto_columns": null,
            "margin": null,
            "display": null,
            "left": null
          }
        }
      }
    }
  },
  "cells": [
    {
      "cell_type": "markdown",
      "metadata": {
        "id": "view-in-github",
        "colab_type": "text"
      },
      "source": [
        "<a href=\"https://colab.research.google.com/github/phrasenmaeher/custom-audio-classification-tf/blob/main/custaudio_data_generation.ipynb\" target=\"_parent\"><img src=\"https://colab.research.google.com/assets/colab-badge.svg\" alt=\"Open In Colab\"/></a>"
      ]
    },
    {
      "cell_type": "markdown",
      "metadata": {
        "id": "CDMFlKkr2InN"
      },
      "source": [
        "# Generate samples\n"
      ]
    },
    {
      "cell_type": "markdown",
      "metadata": {
        "id": "qRWi34mb9epI"
      },
      "source": [
        "Code for section 2 of the post at\n",
        "[TDS/Medium](https://towardsdatascience.com/custom-audio-classification-with-tensorflow-af8c16c38689)\n",
        "\n"
      ]
    },
    {
      "cell_type": "markdown",
      "metadata": {
        "id": "RvTtdC_k2Lok"
      },
      "source": [
        "First, install necessary packages"
      ]
    },
    {
      "cell_type": "code",
      "metadata": {
        "colab": {
          "base_uri": "https://localhost:8080/"
        },
        "id": "5ukuIsUg1QhP",
        "outputId": "e5f56bc2-b0ac-4b27-b674-eeb790c1c694"
      },
      "source": [
        "!pip install pydub\n",
        "from pydub import AudioSegment\n",
        "from pydub.utils import which\n",
        "from pathlib import Path\n",
        "import numpy as np\n",
        "import csv\n",
        "import random, string, os, tqdm, pickle, argparse\n",
        "AudioSegment.converter = which(\"ffmpeg\")\n"
      ],
      "execution_count": null,
      "outputs": [
        {
          "output_type": "stream",
          "text": [
            "Collecting pydub\n",
            "  Downloading https://files.pythonhosted.org/packages/a6/53/d78dc063216e62fc55f6b2eebb447f6a4b0a59f55c8406376f76bf959b08/pydub-0.25.1-py2.py3-none-any.whl\n",
            "Installing collected packages: pydub\n",
            "Successfully installed pydub-0.25.1\n"
          ],
          "name": "stdout"
        }
      ]
    },
    {
      "cell_type": "markdown",
      "metadata": {
        "id": "uU3jM-6g2SB0"
      },
      "source": [
        "Define some helper functions"
      ]
    },
    {
      "cell_type": "code",
      "metadata": {
        "id": "6MwREeZM1cZB"
      },
      "source": [
        "def create_output_paths(output_path, mixed=False):\n",
        "  Path(output_path+\"train/male/\").mkdir(parents=True, exist_ok=True)\n",
        "  Path(output_path+\"train/female/\").mkdir(parents=True, exist_ok=True)\n",
        "\n",
        "  Path(output_path+\"test/male/\").mkdir(parents=True, exist_ok=True)\n",
        "  Path(output_path+\"test/female/\").mkdir(parents=True, exist_ok=True)\n",
        "\n",
        "  Path(output_path+\"valid/male/\").mkdir(parents=True, exist_ok=True)\n",
        "  Path(output_path+\"valid/female/\").mkdir(parents=True, exist_ok=True)\n",
        "\n",
        "  if mixed:\n",
        "    Path(output_path+\"train/mixed/\").mkdir(parents=True, exist_ok=True)\n",
        "    Path(output_path+\"test/mixed/\").mkdir(parents=True, exist_ok=True)\n",
        "    Path(output_path+\"valid/mixed/\").mkdir(parents=True, exist_ok=True)"
      ],
      "execution_count": null,
      "outputs": []
    },
    {
      "cell_type": "code",
      "metadata": {
        "id": "j46TKWj72Ucu"
      },
      "source": [
        "def build_speech_lists(dirs):\n",
        "  '''\n",
        "  To prevent an overlap between test and train speech files, each directory (that is, each speaker), is only assigned\n",
        "  to one category\n",
        "  '''\n",
        "  speech_data = []\n",
        "\n",
        "  for subdir in dirs:\n",
        "    temp = [file for file in Path(subdir).glob('**/*.flac') if (os.path.getsize(file)/1000)>200]\n",
        "    speech_data.extend(temp)\n",
        "\n",
        "  return speech_data\n"
      ],
      "execution_count": null,
      "outputs": []
    },
    {
      "cell_type": "code",
      "metadata": {
        "id": "Jd4lh8hf2fCM"
      },
      "source": [
        "def parse_speakers(speaker_list, seed=1337):\n",
        "  '''\n",
        "  Generates the train, test, and validation speech data\n",
        "  '''\n",
        "\n",
        "  #this file contains a list of male (index 0) and female (index 1) voice directories available to overlay.\n",
        "  #use it to create train/test sets with no overlap\n",
        "  with open(speaker_list, \"rb\") as rf:\n",
        "    speakers = pickle.load(rf)\n",
        "\n",
        "  #sorting\n",
        "  male_speakers = speakers[0]\n",
        "  male_speakers.sort()\n",
        "\n",
        "  male_train = male_speakers[:int(0.8*len(male_speakers))] #80% for train set\n",
        "  male_valid = male_speakers[int(0.8*len(male_speakers)):int(0.9*len(male_speakers))] #10% for validation set\n",
        "  male_test = male_speakers[int(0.9*len(male_speakers)):] #10% for test set\n",
        "\n",
        "  #sorting for equal choices\n",
        "  female_speakers = speakers[1]\n",
        "  female_speakers.sort()\n",
        "\n",
        "  female_train = female_speakers[:int(0.8*len(female_speakers))] #80% for train set\n",
        "  female_valid = female_speakers[int(0.8*len(female_speakers)):int(0.9*len(female_speakers))] #10% for validation set\n",
        "  female_test = female_speakers[int(0.9*len(female_speakers)):] #10% for test set\n",
        "\n",
        "  print(\"Number of female train, validation, and test speakers: {}, {}, {}\".format(len(female_train), len(female_valid), len(female_test)))\n",
        "\n",
        "  print(\"Number of male train, validation, and test speakers: {}, {}, {}\".format(len(male_train),len(male_valid), len(male_test)))\n",
        "\n",
        "  return build_speech_lists(female_train), build_speech_lists(female_valid), build_speech_lists(female_test), build_speech_lists(male_train), build_speech_lists(male_valid), build_speech_lists(male_test)"
      ],
      "execution_count": null,
      "outputs": []
    },
    {
      "cell_type": "code",
      "metadata": {
        "id": "J2Lu6hok25oy"
      },
      "source": [
        "def generate_simultaneous_speech_overlay(base_sound, speech_list):\n",
        "  '''Simultaneously overlays the speeches in speech_list onto base_sound'''\n",
        "  \n",
        "  speeches = []\n",
        "  for path in speech_list:\n",
        "    speech = AudioSegment.from_file(path)\n",
        "    speech = permutate_speech(speech)\n",
        "    speeches.append(speech)\n",
        "\n",
        "  base_sound_len = len(base_sound) # millisecond duration of base_sound\n",
        "  entry_point = random.uniform(0, 0.2*base_sound_len) #random starting point for the entry point of the overlaid sound\n",
        "\n",
        "  output = base_sound\n",
        "  for k in range(len(speeches)):\n",
        "    temp_len =len(speeches[k])\n",
        "    output = output.overlay(speeches[k], position=entry_point)\n",
        "\n",
        "  return output"
      ],
      "execution_count": null,
      "outputs": []
    },
    {
      "cell_type": "code",
      "metadata": {
        "id": "YWdfftqC3m2A"
      },
      "source": [
        "def generate_successive_speech_overlay(base_sound, speech_list):\n",
        "  '''Successively with random pauses overlays the speeches in speech_list onto base_sound'''\n",
        "\n",
        "  speeches = []\n",
        "  for path in speech_list:\n",
        "    speech = AudioSegment.from_file(path)\n",
        "    speech = permutate_speech(speech)\n",
        "    speeches.append(speech)\n",
        "  \n",
        "  entry_point = random.uniform(0, 0.2*len(base_sound)) #random starting point for the entry point of the overlaid sound\n",
        "\n",
        "  output = base_sound\n",
        "  for k in range(len(speeches)):\n",
        "    temp_len =len(speeches[k])\n",
        "    output = output.overlay(speeches[k], position=entry_point)\n",
        "    entry_point += temp_len +random.uniform(0, 5000) #random pause of up to 5 seconds\n",
        "\n",
        "  return output"
      ],
      "execution_count": null,
      "outputs": []
    },
    {
      "cell_type": "code",
      "metadata": {
        "id": "HNfr-xXX37Ag"
      },
      "source": [
        "def permutate_speech(speech):\n",
        "  '''Randomly makes the speech louder, quieter, shorter'''\n",
        "  loudness_coin = random.getrandbits(1)\n",
        "\n",
        "  if loudness_coin: #if we chose a true speech to overlay above, now randomly make this speech louder or quieter [simulates distance to the listener]\n",
        "    rand_loudness = random.uniform(-1, 1)\n",
        "    speech= speech.apply_gain(rand_loudness)\n",
        "\n",
        "  #randomly pertubate speech duration [change starting or end point of overlayed file]\n",
        "  speech_len = len(speech) #duration in milliseconds of the speech\n",
        "  start = random.uniform(0, 0.5*speech_len) #random starting point [for greater variance]\n",
        "  start_at_coin = random.getrandbits(1)\n",
        "  if start_at_coin: #if 1, start the sound at 'start'\n",
        "    speech = speech[start:]\n",
        "  else: #play until start\n",
        "    speech = speech[:start]\n",
        "  \n",
        "  return speech"
      ],
      "execution_count": null,
      "outputs": []
    },
    {
      "cell_type": "code",
      "metadata": {
        "id": "mQo1zUyx4LjM"
      },
      "source": [
        "def generate_speech_overlay(base_sound, speech_list:list, simultaneous:bool):\n",
        "  '''Overlays the speeches in speech_list onto beesound1'''\n",
        "  if simultaneous:\n",
        "    output = generate_simultaneous_speech_overlay(base_sound, speech_list)\n",
        "  else:\n",
        "    output = generate_successive_speech_overlay(base_sound, speech_list)\n",
        "  \n",
        "  return output"
      ],
      "execution_count": null,
      "outputs": []
    },
    {
      "cell_type": "code",
      "metadata": {
        "id": "9Qf50SY17xuI"
      },
      "source": [
        "def get_speech_samples(gender, subset, number_of_samples):\n",
        "  \n",
        "  speeches = []\n",
        "  \n",
        "  if gender: #draw from female speakers\n",
        "    if subset == \"train\":\n",
        "      for k in range(number_of_samples):\n",
        "        speeches.append(random.choice(female_train))\n",
        "    elif subset == \"test\":\n",
        "      for k in range(number_of_samples):\n",
        "        speeches.append(random.choice(female_test))\n",
        "    else:\n",
        "      for k in range(number_of_samples):\n",
        "        speeches.append(random.choice(female_valid))\n",
        "  \n",
        "  else: #draw from male speakers\n",
        "    if subset == \"train\":\n",
        "      for k in range(number_of_samples):\n",
        "        speeches.append(random.choice(male_train))\n",
        "    elif subset == \"test\":\n",
        "      for k in range(number_of_samples):\n",
        "        speeches.append(random.choice(male_test))\n",
        "    else:\n",
        "      for k in range(number_of_samples):\n",
        "        speeches.append(random.choice(male_valid))\n",
        "    \n",
        "  return speeches"
      ],
      "execution_count": null,
      "outputs": []
    },
    {
      "cell_type": "code",
      "metadata": {
        "id": "bpOWviOm4TO_"
      },
      "source": [
        "def generate_sample(subset, filename, args):\n",
        "  '''\n",
        "  Generate a single audio sample\n",
        "  '''\n",
        "\n",
        "  #generate the 60 seconds of silence as the basis to lay other speeches onto\n",
        "  base_sound = AudioSegment.silent(duration=60000)\n",
        "\n",
        "  #either choose a male (0) or female (1) speech\n",
        "  gender_coin = random.getrandbits(1)\n",
        "  \n",
        "  #get a list of speeches to overlay\n",
        "  speeches = get_speech_samples(gender=gender_coin, subset=subset, number_of_samples=random.randint(6, 10))\n",
        "  if args['simultan']:\n",
        "      simultaneous = random.getrandbits(1) #if 1 (True), then overlay the sounds simultaneously\n",
        "  else:\n",
        "      simultaneous = 0\n",
        "\n",
        "  output = generate_speech_overlay(base_sound=base_sound, speech_list=speeches, simultaneous=0)\n",
        "  if output.duration_seconds == 60.0:\n",
        "    \n",
        "    subdir = \"female\" if gender_coin else \"male\"\n",
        "    out_name = args['output_path']+subset+\"/\"+subdir+\"/\"+filename+\".flac\"\n",
        "    output.export(out_name, format='flac', parameters=[\"-ar\", \"22050\"]) \n",
        "    return out_name, subdir\n",
        "  \n",
        "  print(\"Running an additional generation, sample not long enough\")\n",
        "  return generate_sample(subset, filename, args)"
      ],
      "execution_count": null,
      "outputs": []
    },
    {
      "cell_type": "code",
      "metadata": {
        "id": "O0PkG7yZB0l9"
      },
      "source": [
        "def gen_csv(data_dict, outpath, outname):\n",
        "  with open(outpath+outname, 'w') as csvfile:\n",
        "    filewriter = csv.writer(csvfile, delimiter=',')\n",
        "    filewriter.writerow(['path', 'label'])\n",
        "    filewriter.writerows(data_dict.items())"
      ],
      "execution_count": null,
      "outputs": []
    },
    {
      "cell_type": "code",
      "metadata": {
        "id": "xcKv3gTa-paa"
      },
      "source": [
        "parser = argparse.ArgumentParser(description='')\n",
        "parser.add_argument('--output_path', dest='output_path', default='/content/drive/MyDrive/custaudio/dataset/', help='Base path for the dataset')\n",
        "parser.add_argument('--speaker_file', dest='speaker_file', default=\"/content/drive/MyDrive/custaudio/speaker.pkl\", help='Pickle file that stores the speakers')\n",
        "parser.add_argument('--seed', dest='seed', type=int, default=1337, help='Seed for reproducability')\n",
        "parser.add_argument('--num_train_samples', dest='train_samples', type=int, default=50, help='Number of samples in the training subset')\n",
        "parser.add_argument('--num_test_samples', dest='test_samples', type=int, default=50, help='Number of samples in the test subset')\n",
        "parser.add_argument('--num_valid_samples', dest='validation_samples', type=int, default=50, help='Number of samples in the validation subset')\n",
        "parser.add_argument('--csv_dir', dest='csv_dir', default='/content/drive/MyDrive/custaudio/', help='The csv files that contain sample|label mappings are stored there')\n",
        "parser.add_argument('--csv_flag', dest='csv_flag', default='custom_', help='A name that will be appended to the csv file to differentiate it from other ones')\n",
        "parser.add_argument('--mixed', dest='mixed', type=int, default=0, help=\"If set then create a third category that mixes male and female speakers\")\n",
        "parser.add_argument('--simultaneous', dest='simultan', type=int, default=0, help=\"If set then overlay two speeches at the same timestamp\")\n",
        "\n",
        "args, unknown = parser.parse_known_args()\n",
        "args = args.__dict__"
      ],
      "execution_count": null,
      "outputs": []
    },
    {
      "cell_type": "code",
      "metadata": {
        "id": "VE_gATph-gjo",
        "colab": {
          "base_uri": "https://localhost:8080/",
          "height": 341,
          "referenced_widgets": [
            "df848a20dc01473688f2be7f0a63d09f",
            "5911842c01ad4811828ae56d01ab5303",
            "c8a2d838c8f9430799bcf5a7691398e6",
            "f0a333e8dfef4ab0ae0c842523f6cc1d",
            "00d1ac36456b40cea4b9c361f2ad186e",
            "4b2ce78dd7f448f2b940ffb5da41e79c",
            "e2c8925add1044c8aff9f88a04a9e4dd",
            "68bd280e1b0742799a3686da000943c7",
            "2eb8afc22a1941b6b47bfd4f4aa60515",
            "045eaff4afd84d63b257eb7c1916e56e",
            "ef0ad6eb914144c893ea00976f306393",
            "b56cc9a26c484b4ca7561d4523c0aba2",
            "0de97a067a484524b168a091472a7bcd",
            "ad7798198bdf4c22b77261ec0f26aa89",
            "eecd7315f5ca4fb8827f0b68370a8f11",
            "590af0b591114d4b8142930cf0aa3813",
            "766b74a257524cf6a96d8e30a2728a67",
            "8b750c099fd54c28b852a48c7611fd30",
            "769c768880bd42aca0e7d553d234733a",
            "dd8d3cfa2d6b4481807edf8af244474c",
            "4f409f5a3da24e929896a149c5fc020a",
            "4e4833b9648941c9b848eb862b1a2f17",
            "f2ebd07fd553470593938694e797579e",
            "c0f9cd1510b74bae85ae26549e95139f"
          ]
        },
        "outputId": "d442164e-8313-41ea-bb71-1a3e7d353905"
      },
      "source": [
        "if __name__ == '__main__':\n",
        "  \n",
        "  #create our output directories and lists of speakers\n",
        "  create_output_paths(output_path=args['output_path'], mixed=args['mixed'])\n",
        "  female_train, female_valid, female_test, male_train, male_valid, male_test = parse_speakers(speaker_list=args['speaker_file'])\n",
        "  \n",
        "  #set a random seed\n",
        "  random.seed(args['seed'])\n",
        "\n",
        "  samples_dict = {}\n",
        "  for i in tqdm.tqdm_notebook(range(1, args['train_samples']+1)):\n",
        "    out_name, label = generate_sample(subset=\"train\", filename=str(i), args=args)\n",
        "    samples_dict[out_name] = 0 if label==\"male\" else 1\n",
        "  gen_csv(data_dict=samples_dict, outpath=args['csv_dir'], outname=args['csv_flag']+\"train.csv\")\n",
        "\n",
        "  samples_dict = {}\n",
        "  for i in tqdm.tqdm_notebook(range(1, args['test_samples']+1)):\n",
        "    out_name, label = generate_sample(subset=\"test\", filename=str(i), args=args)\n",
        "    samples_dict[out_name] = 0 if label==\"male\" else 1\n",
        "  gen_csv(data_dict=samples_dict, outpath=args['csv_dir'], outname=args['csv_flag']+\"test.csv\")\n",
        "\n",
        "  samples_dict = {}\n",
        "  for i in tqdm.tqdm_notebook(range(1, args['validation_samples']+1)):\n",
        "    out_name, label = generate_sample(subset=\"valid\", filename=str(i), args=args)\n",
        "    samples_dict[out_name] = 0 if label==\"male\" else 1\n",
        "  gen_csv(data_dict=samples_dict, outpath=args['csv_dir'], outname=args['csv_flag']+\"valid.csv\")\n"
      ],
      "execution_count": null,
      "outputs": [
        {
          "output_type": "stream",
          "text": [
            "Number of female train, validation, and test speakers: 60, 8, 8\n",
            "Number of male train, validation, and test speakers: 55, 7, 7\n"
          ],
          "name": "stdout"
        },
        {
          "output_type": "stream",
          "text": [
            "/usr/local/lib/python3.7/dist-packages/ipykernel_launcher.py:11: TqdmDeprecationWarning: This function will be removed in tqdm==5.0.0\n",
            "Please use `tqdm.notebook.tqdm` instead of `tqdm.tqdm_notebook`\n",
            "  # This is added back by InteractiveShellApp.init_path()\n"
          ],
          "name": "stderr"
        },
        {
          "output_type": "display_data",
          "data": {
            "application/vnd.jupyter.widget-view+json": {
              "model_id": "df848a20dc01473688f2be7f0a63d09f",
              "version_minor": 0,
              "version_major": 2
            },
            "text/plain": [
              "HBox(children=(FloatProgress(value=0.0, max=50.0), HTML(value='')))"
            ]
          },
          "metadata": {
            "tags": []
          }
        },
        {
          "output_type": "stream",
          "text": [
            "\n"
          ],
          "name": "stdout"
        },
        {
          "output_type": "stream",
          "text": [
            "/usr/local/lib/python3.7/dist-packages/ipykernel_launcher.py:17: TqdmDeprecationWarning: This function will be removed in tqdm==5.0.0\n",
            "Please use `tqdm.notebook.tqdm` instead of `tqdm.tqdm_notebook`\n"
          ],
          "name": "stderr"
        },
        {
          "output_type": "display_data",
          "data": {
            "application/vnd.jupyter.widget-view+json": {
              "model_id": "2eb8afc22a1941b6b47bfd4f4aa60515",
              "version_minor": 0,
              "version_major": 2
            },
            "text/plain": [
              "HBox(children=(FloatProgress(value=0.0, max=50.0), HTML(value='')))"
            ]
          },
          "metadata": {
            "tags": []
          }
        },
        {
          "output_type": "stream",
          "text": [
            "\n"
          ],
          "name": "stdout"
        },
        {
          "output_type": "stream",
          "text": [
            "/usr/local/lib/python3.7/dist-packages/ipykernel_launcher.py:23: TqdmDeprecationWarning: This function will be removed in tqdm==5.0.0\n",
            "Please use `tqdm.notebook.tqdm` instead of `tqdm.tqdm_notebook`\n"
          ],
          "name": "stderr"
        },
        {
          "output_type": "display_data",
          "data": {
            "application/vnd.jupyter.widget-view+json": {
              "model_id": "766b74a257524cf6a96d8e30a2728a67",
              "version_minor": 0,
              "version_major": 2
            },
            "text/plain": [
              "HBox(children=(FloatProgress(value=0.0, max=50.0), HTML(value='')))"
            ]
          },
          "metadata": {
            "tags": []
          }
        },
        {
          "output_type": "stream",
          "text": [
            "\n"
          ],
          "name": "stdout"
        }
      ]
    },
    {
      "cell_type": "code",
      "metadata": {
        "id": "tgWVWoByVvn9"
      },
      "source": [
        ""
      ],
      "execution_count": null,
      "outputs": []
    }
  ]
}